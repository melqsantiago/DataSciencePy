{
  "nbformat": 4,
  "nbformat_minor": 0,
  "metadata": {
    "colab": {
      "provenance": [],
      "authorship_tag": "ABX9TyPYbd/fXCAbJTYGCMYC9Syx",
      "include_colab_link": true
    },
    "kernelspec": {
      "name": "python3",
      "display_name": "Python 3"
    },
    "language_info": {
      "name": "python"
    }
  },
  "cells": [
    {
      "cell_type": "markdown",
      "metadata": {
        "id": "view-in-github",
        "colab_type": "text"
      },
      "source": [
        "<a href=\"https://colab.research.google.com/github/melqsantiago/DataSciencePy/blob/main/Proyect1.ipynb\" target=\"_parent\"><img src=\"https://colab.research.google.com/assets/colab-badge.svg\" alt=\"Open In Colab\"/></a>"
      ]
    },
    {
      "cell_type": "code",
      "execution_count": 30,
      "metadata": {
        "id": "6Gitlz96Y4Fm"
      },
      "outputs": [],
      "source": [
        "import pandas as pd\n",
        "from string import ascii_uppercase as alfabeto #importamos al abecedario en mayusculas\n",
        "import pickle #diccionario\n"
      ]
    },
    {
      "cell_type": "code",
      "source": [
        "todas_tablas = pd.read_html('https://en.wikipedia.org/wiki/2014_FIFA_World_Cup')"
      ],
      "metadata": {
        "id": "tbT7njaJZCmI"
      },
      "execution_count": 8,
      "outputs": []
    },
    {
      "cell_type": "code",
      "source": [
        "todas_tablas [24]"
      ],
      "metadata": {
        "colab": {
          "base_uri": "https://localhost:8080/",
          "height": 175
        },
        "id": "cC9s0054b2Q4",
        "outputId": "7d75fb1c-4e9c-4400-f157-7c939946823b"
      },
      "execution_count": 25,
      "outputs": [
        {
          "output_type": "execute_result",
          "data": {
            "text/plain": [
              "   Pos      Teamvte  Pld  W  D  L  GF  GA  GD  Pts              Qualification\n",
              "0    1     Colombia    3  3  0  0   9   2  +7    9  Advance to knockout stage\n",
              "1    2       Greece    3  1  1  1   2   4  −2    4  Advance to knockout stage\n",
              "2    3  Ivory Coast    3  1  0  2   4   5  −1    3                        NaN\n",
              "3    4        Japan    3  0  1  2   2   6  −4    1                        NaN"
            ],
            "text/html": [
              "\n",
              "  <div id=\"df-946e0e5f-2d4c-4de7-b430-9739741a7818\">\n",
              "    <div class=\"colab-df-container\">\n",
              "      <div>\n",
              "<style scoped>\n",
              "    .dataframe tbody tr th:only-of-type {\n",
              "        vertical-align: middle;\n",
              "    }\n",
              "\n",
              "    .dataframe tbody tr th {\n",
              "        vertical-align: top;\n",
              "    }\n",
              "\n",
              "    .dataframe thead th {\n",
              "        text-align: right;\n",
              "    }\n",
              "</style>\n",
              "<table border=\"1\" class=\"dataframe\">\n",
              "  <thead>\n",
              "    <tr style=\"text-align: right;\">\n",
              "      <th></th>\n",
              "      <th>Pos</th>\n",
              "      <th>Teamvte</th>\n",
              "      <th>Pld</th>\n",
              "      <th>W</th>\n",
              "      <th>D</th>\n",
              "      <th>L</th>\n",
              "      <th>GF</th>\n",
              "      <th>GA</th>\n",
              "      <th>GD</th>\n",
              "      <th>Pts</th>\n",
              "      <th>Qualification</th>\n",
              "    </tr>\n",
              "  </thead>\n",
              "  <tbody>\n",
              "    <tr>\n",
              "      <th>0</th>\n",
              "      <td>1</td>\n",
              "      <td>Colombia</td>\n",
              "      <td>3</td>\n",
              "      <td>3</td>\n",
              "      <td>0</td>\n",
              "      <td>0</td>\n",
              "      <td>9</td>\n",
              "      <td>2</td>\n",
              "      <td>+7</td>\n",
              "      <td>9</td>\n",
              "      <td>Advance to knockout stage</td>\n",
              "    </tr>\n",
              "    <tr>\n",
              "      <th>1</th>\n",
              "      <td>2</td>\n",
              "      <td>Greece</td>\n",
              "      <td>3</td>\n",
              "      <td>1</td>\n",
              "      <td>1</td>\n",
              "      <td>1</td>\n",
              "      <td>2</td>\n",
              "      <td>4</td>\n",
              "      <td>−2</td>\n",
              "      <td>4</td>\n",
              "      <td>Advance to knockout stage</td>\n",
              "    </tr>\n",
              "    <tr>\n",
              "      <th>2</th>\n",
              "      <td>3</td>\n",
              "      <td>Ivory Coast</td>\n",
              "      <td>3</td>\n",
              "      <td>1</td>\n",
              "      <td>0</td>\n",
              "      <td>2</td>\n",
              "      <td>4</td>\n",
              "      <td>5</td>\n",
              "      <td>−1</td>\n",
              "      <td>3</td>\n",
              "      <td>NaN</td>\n",
              "    </tr>\n",
              "    <tr>\n",
              "      <th>3</th>\n",
              "      <td>4</td>\n",
              "      <td>Japan</td>\n",
              "      <td>3</td>\n",
              "      <td>0</td>\n",
              "      <td>1</td>\n",
              "      <td>2</td>\n",
              "      <td>2</td>\n",
              "      <td>6</td>\n",
              "      <td>−4</td>\n",
              "      <td>1</td>\n",
              "      <td>NaN</td>\n",
              "    </tr>\n",
              "  </tbody>\n",
              "</table>\n",
              "</div>\n",
              "      <button class=\"colab-df-convert\" onclick=\"convertToInteractive('df-946e0e5f-2d4c-4de7-b430-9739741a7818')\"\n",
              "              title=\"Convert this dataframe to an interactive table.\"\n",
              "              style=\"display:none;\">\n",
              "        \n",
              "  <svg xmlns=\"http://www.w3.org/2000/svg\" height=\"24px\"viewBox=\"0 0 24 24\"\n",
              "       width=\"24px\">\n",
              "    <path d=\"M0 0h24v24H0V0z\" fill=\"none\"/>\n",
              "    <path d=\"M18.56 5.44l.94 2.06.94-2.06 2.06-.94-2.06-.94-.94-2.06-.94 2.06-2.06.94zm-11 1L8.5 8.5l.94-2.06 2.06-.94-2.06-.94L8.5 2.5l-.94 2.06-2.06.94zm10 10l.94 2.06.94-2.06 2.06-.94-2.06-.94-.94-2.06-.94 2.06-2.06.94z\"/><path d=\"M17.41 7.96l-1.37-1.37c-.4-.4-.92-.59-1.43-.59-.52 0-1.04.2-1.43.59L10.3 9.45l-7.72 7.72c-.78.78-.78 2.05 0 2.83L4 21.41c.39.39.9.59 1.41.59.51 0 1.02-.2 1.41-.59l7.78-7.78 2.81-2.81c.8-.78.8-2.07 0-2.86zM5.41 20L4 18.59l7.72-7.72 1.47 1.35L5.41 20z\"/>\n",
              "  </svg>\n",
              "      </button>\n",
              "      \n",
              "  <style>\n",
              "    .colab-df-container {\n",
              "      display:flex;\n",
              "      flex-wrap:wrap;\n",
              "      gap: 12px;\n",
              "    }\n",
              "\n",
              "    .colab-df-convert {\n",
              "      background-color: #E8F0FE;\n",
              "      border: none;\n",
              "      border-radius: 50%;\n",
              "      cursor: pointer;\n",
              "      display: none;\n",
              "      fill: #1967D2;\n",
              "      height: 32px;\n",
              "      padding: 0 0 0 0;\n",
              "      width: 32px;\n",
              "    }\n",
              "\n",
              "    .colab-df-convert:hover {\n",
              "      background-color: #E2EBFA;\n",
              "      box-shadow: 0px 1px 2px rgba(60, 64, 67, 0.3), 0px 1px 3px 1px rgba(60, 64, 67, 0.15);\n",
              "      fill: #174EA6;\n",
              "    }\n",
              "\n",
              "    [theme=dark] .colab-df-convert {\n",
              "      background-color: #3B4455;\n",
              "      fill: #D2E3FC;\n",
              "    }\n",
              "\n",
              "    [theme=dark] .colab-df-convert:hover {\n",
              "      background-color: #434B5C;\n",
              "      box-shadow: 0px 1px 3px 1px rgba(0, 0, 0, 0.15);\n",
              "      filter: drop-shadow(0px 1px 2px rgba(0, 0, 0, 0.3));\n",
              "      fill: #FFFFFF;\n",
              "    }\n",
              "  </style>\n",
              "\n",
              "      <script>\n",
              "        const buttonEl =\n",
              "          document.querySelector('#df-946e0e5f-2d4c-4de7-b430-9739741a7818 button.colab-df-convert');\n",
              "        buttonEl.style.display =\n",
              "          google.colab.kernel.accessAllowed ? 'block' : 'none';\n",
              "\n",
              "        async function convertToInteractive(key) {\n",
              "          const element = document.querySelector('#df-946e0e5f-2d4c-4de7-b430-9739741a7818');\n",
              "          const dataTable =\n",
              "            await google.colab.kernel.invokeFunction('convertToInteractive',\n",
              "                                                     [key], {});\n",
              "          if (!dataTable) return;\n",
              "\n",
              "          const docLinkHtml = 'Like what you see? Visit the ' +\n",
              "            '<a target=\"_blank\" href=https://colab.research.google.com/notebooks/data_table.ipynb>data table notebook</a>'\n",
              "            + ' to learn more about interactive tables.';\n",
              "          element.innerHTML = '';\n",
              "          dataTable['output_type'] = 'display_data';\n",
              "          await google.colab.output.renderOutput(dataTable, element);\n",
              "          const docLink = document.createElement('div');\n",
              "          docLink.innerHTML = docLinkHtml;\n",
              "          element.appendChild(docLink);\n",
              "        }\n",
              "      </script>\n",
              "    </div>\n",
              "  </div>\n",
              "  "
            ]
          },
          "metadata": {},
          "execution_count": 25
        }
      ]
    },
    {
      "cell_type": "code",
      "source": [
        "todas_tablas[17].columns[1]"
      ],
      "metadata": {
        "colab": {
          "base_uri": "https://localhost:8080/",
          "height": 35
        },
        "id": "9cSF_hC5ixkr",
        "outputId": "fa259a5a-c553-4a06-c8fd-73dbf4608855"
      },
      "execution_count": 28,
      "outputs": [
        {
          "output_type": "execute_result",
          "data": {
            "text/plain": [
              "'Teamvte'"
            ],
            "application/vnd.google.colaboratory.intrinsic+json": {
              "type": "string"
            }
          },
          "metadata": {},
          "execution_count": 28
        }
      ]
    },
    {
      "cell_type": "code",
      "source": [
        "todas_tablas = pd.read_html('https://en.wikipedia.org/wiki/2014_FIFA_World_Cup')\n",
        "for i in range (10,66, 7): #selecciono solo \n",
        "    df = todas_tablas[i]\n",
        "    df.rename(columns={df.columns[1]: 'Team'}, inplace=True) #renombro la columna 1, \n",
        "    df.pop('Qualification') #Elimina ca colummna \n",
        "    print (df)    "
      ],
      "metadata": {
        "colab": {
          "base_uri": "https://localhost:8080/"
        },
        "id": "XY9WGe_odzoy",
        "outputId": "cb13cd03-83ab-4d40-d7ff-95a9a5e75dd9"
      },
      "execution_count": 29,
      "outputs": [
        {
          "output_type": "stream",
          "name": "stdout",
          "text": [
            "   Pos        Team  Pld  W  D  L  GF  GA  GD  Pts\n",
            "0    1  Brazil (H)    3  2  1  0   7   2  +5    7\n",
            "1    2      Mexico    3  2  1  0   4   1  +3    7\n",
            "2    3     Croatia    3  1  0  2   6   6   0    3\n",
            "3    4    Cameroon    3  0  0  3   1   9  −8    0\n",
            "   Pos         Team  Pld  W  D  L  GF  GA  GD  Pts\n",
            "0    1  Netherlands    3  3  0  0  10   3  +7    9\n",
            "1    2        Chile    3  2  0  1   5   3  +2    6\n",
            "2    3        Spain    3  1  0  2   4   7  −3    3\n",
            "3    4    Australia    3  0  0  3   3   9  −6    0\n",
            "   Pos         Team  Pld  W  D  L  GF  GA  GD  Pts\n",
            "0    1     Colombia    3  3  0  0   9   2  +7    9\n",
            "1    2       Greece    3  1  1  1   2   4  −2    4\n",
            "2    3  Ivory Coast    3  1  0  2   4   5  −1    3\n",
            "3    4        Japan    3  0  1  2   2   6  −4    1\n",
            "   Pos        Team  Pld  W  D  L  GF  GA  GD  Pts\n",
            "0    1  Costa Rica    3  2  1  0   4   1  +3    7\n",
            "1    2     Uruguay    3  2  0  1   4   4   0    6\n",
            "2    3       Italy    3  1  0  2   2   3  −1    3\n",
            "3    4     England    3  0  1  2   2   4  −2    1\n",
            "   Pos         Team  Pld  W  D  L  GF  GA  GD  Pts\n",
            "0    1       France    3  2  1  0   8   2  +6    7\n",
            "1    2  Switzerland    3  2  0  1   7   6  +1    6\n",
            "2    3      Ecuador    3  1  1  1   3   3   0    4\n",
            "3    4     Honduras    3  0  0  3   1   8  −7    0\n",
            "   Pos                    Team  Pld  W  D  L  GF  GA  GD  Pts\n",
            "0    1               Argentina    3  3  0  0   6   3  +3    9\n",
            "1    2                 Nigeria    3  1  1  1   3   3   0    4\n",
            "2    3  Bosnia and Herzegovina    3  1  0  2   4   4   0    3\n",
            "3    4                    Iran    3  0  1  2   1   4  −3    1\n",
            "   Pos           Team  Pld  W  D  L  GF  GA  GD  Pts\n",
            "0    1        Germany    3  2  1  0   7   2  +5    7\n",
            "1    2  United States    3  1  1  1   4   4   0    4\n",
            "2    3       Portugal    3  1  1  1   4   7  −3    4\n",
            "3    4          Ghana    3  0  1  2   4   6  −2    1\n",
            "   Pos         Team  Pld  W  D  L  GF  GA  GD  Pts\n",
            "0    1      Belgium    3  3  0  0   4   1  +3    9\n",
            "1    2      Algeria    3  1  1  1   6   5  +1    4\n",
            "2    3       Russia    3  0  2  1   2   3  −1    2\n",
            "3    4  South Korea    3  0  1  2   3   6  −3    1\n"
          ]
        }
      ]
    },
    {
      "cell_type": "code",
      "source": [
        "alfabeto"
      ],
      "metadata": {
        "colab": {
          "base_uri": "https://localhost:8080/",
          "height": 35
        },
        "id": "X9bLwyy7rMOe",
        "outputId": "29f5661d-1f28-4745-db99-58ade90667f7"
      },
      "execution_count": 31,
      "outputs": [
        {
          "output_type": "execute_result",
          "data": {
            "text/plain": [
              "'ABCDEFGHIJKLMNOPQRSTUVWXYZ'"
            ],
            "application/vnd.google.colaboratory.intrinsic+json": {
              "type": "string"
            }
          },
          "metadata": {},
          "execution_count": 31
        }
      ]
    },
    {
      "cell_type": "code",
      "source": [
        "for letra, i in zip(alfabeto, range(10,66,7)):\n",
        "  print (letra, i)"
      ],
      "metadata": {
        "colab": {
          "base_uri": "https://localhost:8080/"
        },
        "id": "DOoZPudirO3e",
        "outputId": "30935038-4985-45f8-a88c-fc73743083c1"
      },
      "execution_count": 33,
      "outputs": [
        {
          "output_type": "stream",
          "name": "stdout",
          "text": [
            "A 10\n",
            "B 17\n",
            "C 24\n",
            "D 31\n",
            "E 38\n",
            "F 45\n",
            "G 52\n",
            "H 59\n"
          ]
        }
      ]
    },
    {
      "cell_type": "code",
      "source": [
        "todas_tablas = pd.read_html('https://en.wikipedia.org/wiki/2014_FIFA_World_Cup')\n",
        "dict_grupos = {}\n",
        "for letra, i in zip(alfabeto, range(10,66, 7)): #selecciono solo \n",
        "    df = todas_tablas[i]\n",
        "    df.rename(columns={df.columns[1]: 'Team'}, inplace=True) #renombro la columna 1, \n",
        "    df.pop('Qualification') #Elimina ca colummna \n",
        "    dict_grupos[f'Grupo {letra}']=df\n",
        "    "
      ],
      "metadata": {
        "colab": {
          "base_uri": "https://localhost:8080/"
        },
        "id": "fygv3wPQrqpA",
        "outputId": "9d875213-b8cc-44ca-d696-1e3777ef0269"
      },
      "execution_count": 34,
      "outputs": [
        {
          "output_type": "stream",
          "name": "stdout",
          "text": [
            "   Pos        Team  Pld  W  D  L  GF  GA  GD  Pts\n",
            "0    1  Brazil (H)    3  2  1  0   7   2  +5    7\n",
            "1    2      Mexico    3  2  1  0   4   1  +3    7\n",
            "2    3     Croatia    3  1  0  2   6   6   0    3\n",
            "3    4    Cameroon    3  0  0  3   1   9  −8    0\n",
            "   Pos         Team  Pld  W  D  L  GF  GA  GD  Pts\n",
            "0    1  Netherlands    3  3  0  0  10   3  +7    9\n",
            "1    2        Chile    3  2  0  1   5   3  +2    6\n",
            "2    3        Spain    3  1  0  2   4   7  −3    3\n",
            "3    4    Australia    3  0  0  3   3   9  −6    0\n",
            "   Pos         Team  Pld  W  D  L  GF  GA  GD  Pts\n",
            "0    1     Colombia    3  3  0  0   9   2  +7    9\n",
            "1    2       Greece    3  1  1  1   2   4  −2    4\n",
            "2    3  Ivory Coast    3  1  0  2   4   5  −1    3\n",
            "3    4        Japan    3  0  1  2   2   6  −4    1\n",
            "   Pos        Team  Pld  W  D  L  GF  GA  GD  Pts\n",
            "0    1  Costa Rica    3  2  1  0   4   1  +3    7\n",
            "1    2     Uruguay    3  2  0  1   4   4   0    6\n",
            "2    3       Italy    3  1  0  2   2   3  −1    3\n",
            "3    4     England    3  0  1  2   2   4  −2    1\n",
            "   Pos         Team  Pld  W  D  L  GF  GA  GD  Pts\n",
            "0    1       France    3  2  1  0   8   2  +6    7\n",
            "1    2  Switzerland    3  2  0  1   7   6  +1    6\n",
            "2    3      Ecuador    3  1  1  1   3   3   0    4\n",
            "3    4     Honduras    3  0  0  3   1   8  −7    0\n",
            "   Pos                    Team  Pld  W  D  L  GF  GA  GD  Pts\n",
            "0    1               Argentina    3  3  0  0   6   3  +3    9\n",
            "1    2                 Nigeria    3  1  1  1   3   3   0    4\n",
            "2    3  Bosnia and Herzegovina    3  1  0  2   4   4   0    3\n",
            "3    4                    Iran    3  0  1  2   1   4  −3    1\n",
            "   Pos           Team  Pld  W  D  L  GF  GA  GD  Pts\n",
            "0    1        Germany    3  2  1  0   7   2  +5    7\n",
            "1    2  United States    3  1  1  1   4   4   0    4\n",
            "2    3       Portugal    3  1  1  1   4   7  −3    4\n",
            "3    4          Ghana    3  0  1  2   4   6  −2    1\n",
            "   Pos         Team  Pld  W  D  L  GF  GA  GD  Pts\n",
            "0    1      Belgium    3  3  0  0   4   1  +3    9\n",
            "1    2      Algeria    3  1  1  1   6   5  +1    4\n",
            "2    3       Russia    3  0  2  1   2   3  −1    2\n",
            "3    4  South Korea    3  0  1  2   3   6  −3    1\n"
          ]
        }
      ]
    },
    {
      "cell_type": "code",
      "source": [
        "dict_grupos['Grupo H']"
      ],
      "metadata": {
        "colab": {
          "base_uri": "https://localhost:8080/",
          "height": 175
        },
        "id": "3mlUOS4jsdbu",
        "outputId": "624d1dc7-4392-478e-db24-d4e1b2bd939a"
      },
      "execution_count": 36,
      "outputs": [
        {
          "output_type": "execute_result",
          "data": {
            "text/plain": [
              "   Pos         Team  Pld  W  D  L  GF  GA  GD  Pts\n",
              "0    1      Belgium    3  3  0  0   4   1  +3    9\n",
              "1    2      Algeria    3  1  1  1   6   5  +1    4\n",
              "2    3       Russia    3  0  2  1   2   3  −1    2\n",
              "3    4  South Korea    3  0  1  2   3   6  −3    1"
            ],
            "text/html": [
              "\n",
              "  <div id=\"df-6bef9ebc-534b-4301-b38f-9b61e2731a97\">\n",
              "    <div class=\"colab-df-container\">\n",
              "      <div>\n",
              "<style scoped>\n",
              "    .dataframe tbody tr th:only-of-type {\n",
              "        vertical-align: middle;\n",
              "    }\n",
              "\n",
              "    .dataframe tbody tr th {\n",
              "        vertical-align: top;\n",
              "    }\n",
              "\n",
              "    .dataframe thead th {\n",
              "        text-align: right;\n",
              "    }\n",
              "</style>\n",
              "<table border=\"1\" class=\"dataframe\">\n",
              "  <thead>\n",
              "    <tr style=\"text-align: right;\">\n",
              "      <th></th>\n",
              "      <th>Pos</th>\n",
              "      <th>Team</th>\n",
              "      <th>Pld</th>\n",
              "      <th>W</th>\n",
              "      <th>D</th>\n",
              "      <th>L</th>\n",
              "      <th>GF</th>\n",
              "      <th>GA</th>\n",
              "      <th>GD</th>\n",
              "      <th>Pts</th>\n",
              "    </tr>\n",
              "  </thead>\n",
              "  <tbody>\n",
              "    <tr>\n",
              "      <th>0</th>\n",
              "      <td>1</td>\n",
              "      <td>Belgium</td>\n",
              "      <td>3</td>\n",
              "      <td>3</td>\n",
              "      <td>0</td>\n",
              "      <td>0</td>\n",
              "      <td>4</td>\n",
              "      <td>1</td>\n",
              "      <td>+3</td>\n",
              "      <td>9</td>\n",
              "    </tr>\n",
              "    <tr>\n",
              "      <th>1</th>\n",
              "      <td>2</td>\n",
              "      <td>Algeria</td>\n",
              "      <td>3</td>\n",
              "      <td>1</td>\n",
              "      <td>1</td>\n",
              "      <td>1</td>\n",
              "      <td>6</td>\n",
              "      <td>5</td>\n",
              "      <td>+1</td>\n",
              "      <td>4</td>\n",
              "    </tr>\n",
              "    <tr>\n",
              "      <th>2</th>\n",
              "      <td>3</td>\n",
              "      <td>Russia</td>\n",
              "      <td>3</td>\n",
              "      <td>0</td>\n",
              "      <td>2</td>\n",
              "      <td>1</td>\n",
              "      <td>2</td>\n",
              "      <td>3</td>\n",
              "      <td>−1</td>\n",
              "      <td>2</td>\n",
              "    </tr>\n",
              "    <tr>\n",
              "      <th>3</th>\n",
              "      <td>4</td>\n",
              "      <td>South Korea</td>\n",
              "      <td>3</td>\n",
              "      <td>0</td>\n",
              "      <td>1</td>\n",
              "      <td>2</td>\n",
              "      <td>3</td>\n",
              "      <td>6</td>\n",
              "      <td>−3</td>\n",
              "      <td>1</td>\n",
              "    </tr>\n",
              "  </tbody>\n",
              "</table>\n",
              "</div>\n",
              "      <button class=\"colab-df-convert\" onclick=\"convertToInteractive('df-6bef9ebc-534b-4301-b38f-9b61e2731a97')\"\n",
              "              title=\"Convert this dataframe to an interactive table.\"\n",
              "              style=\"display:none;\">\n",
              "        \n",
              "  <svg xmlns=\"http://www.w3.org/2000/svg\" height=\"24px\"viewBox=\"0 0 24 24\"\n",
              "       width=\"24px\">\n",
              "    <path d=\"M0 0h24v24H0V0z\" fill=\"none\"/>\n",
              "    <path d=\"M18.56 5.44l.94 2.06.94-2.06 2.06-.94-2.06-.94-.94-2.06-.94 2.06-2.06.94zm-11 1L8.5 8.5l.94-2.06 2.06-.94-2.06-.94L8.5 2.5l-.94 2.06-2.06.94zm10 10l.94 2.06.94-2.06 2.06-.94-2.06-.94-.94-2.06-.94 2.06-2.06.94z\"/><path d=\"M17.41 7.96l-1.37-1.37c-.4-.4-.92-.59-1.43-.59-.52 0-1.04.2-1.43.59L10.3 9.45l-7.72 7.72c-.78.78-.78 2.05 0 2.83L4 21.41c.39.39.9.59 1.41.59.51 0 1.02-.2 1.41-.59l7.78-7.78 2.81-2.81c.8-.78.8-2.07 0-2.86zM5.41 20L4 18.59l7.72-7.72 1.47 1.35L5.41 20z\"/>\n",
              "  </svg>\n",
              "      </button>\n",
              "      \n",
              "  <style>\n",
              "    .colab-df-container {\n",
              "      display:flex;\n",
              "      flex-wrap:wrap;\n",
              "      gap: 12px;\n",
              "    }\n",
              "\n",
              "    .colab-df-convert {\n",
              "      background-color: #E8F0FE;\n",
              "      border: none;\n",
              "      border-radius: 50%;\n",
              "      cursor: pointer;\n",
              "      display: none;\n",
              "      fill: #1967D2;\n",
              "      height: 32px;\n",
              "      padding: 0 0 0 0;\n",
              "      width: 32px;\n",
              "    }\n",
              "\n",
              "    .colab-df-convert:hover {\n",
              "      background-color: #E2EBFA;\n",
              "      box-shadow: 0px 1px 2px rgba(60, 64, 67, 0.3), 0px 1px 3px 1px rgba(60, 64, 67, 0.15);\n",
              "      fill: #174EA6;\n",
              "    }\n",
              "\n",
              "    [theme=dark] .colab-df-convert {\n",
              "      background-color: #3B4455;\n",
              "      fill: #D2E3FC;\n",
              "    }\n",
              "\n",
              "    [theme=dark] .colab-df-convert:hover {\n",
              "      background-color: #434B5C;\n",
              "      box-shadow: 0px 1px 3px 1px rgba(0, 0, 0, 0.15);\n",
              "      filter: drop-shadow(0px 1px 2px rgba(0, 0, 0, 0.3));\n",
              "      fill: #FFFFFF;\n",
              "    }\n",
              "  </style>\n",
              "\n",
              "      <script>\n",
              "        const buttonEl =\n",
              "          document.querySelector('#df-6bef9ebc-534b-4301-b38f-9b61e2731a97 button.colab-df-convert');\n",
              "        buttonEl.style.display =\n",
              "          google.colab.kernel.accessAllowed ? 'block' : 'none';\n",
              "\n",
              "        async function convertToInteractive(key) {\n",
              "          const element = document.querySelector('#df-6bef9ebc-534b-4301-b38f-9b61e2731a97');\n",
              "          const dataTable =\n",
              "            await google.colab.kernel.invokeFunction('convertToInteractive',\n",
              "                                                     [key], {});\n",
              "          if (!dataTable) return;\n",
              "\n",
              "          const docLinkHtml = 'Like what you see? Visit the ' +\n",
              "            '<a target=\"_blank\" href=https://colab.research.google.com/notebooks/data_table.ipynb>data table notebook</a>'\n",
              "            + ' to learn more about interactive tables.';\n",
              "          element.innerHTML = '';\n",
              "          dataTable['output_type'] = 'display_data';\n",
              "          await google.colab.output.renderOutput(dataTable, element);\n",
              "          const docLink = document.createElement('div');\n",
              "          docLink.innerHTML = docLinkHtml;\n",
              "          element.appendChild(docLink);\n",
              "        }\n",
              "      </script>\n",
              "    </div>\n",
              "  </div>\n",
              "  "
            ]
          },
          "metadata": {},
          "execution_count": 36
        }
      ]
    }
  ]
}